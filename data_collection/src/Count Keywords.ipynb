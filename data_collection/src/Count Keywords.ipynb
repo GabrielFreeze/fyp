{
 "cells": [
  {
   "cell_type": "code",
   "execution_count": 1,
   "id": "3cbf3a71",
   "metadata": {
    "ExecuteTime": {
     "end_time": "2023-05-02T12:15:50.263103Z",
     "start_time": "2023-05-02T12:15:49.851103Z"
    }
   },
   "outputs": [],
   "source": [
    "import os\n",
    "import pandas as pd"
   ]
  },
  {
   "cell_type": "code",
   "execution_count": 2,
   "id": "cbb6376a",
   "metadata": {
    "ExecuteTime": {
     "end_time": "2023-05-02T12:15:50.861530Z",
     "start_time": "2023-05-02T12:15:50.505535Z"
    }
   },
   "outputs": [],
   "source": [
    "newspapers = ['times_of_malta','the_shift','malta_today','independent','malta_daily','gozo_news']\n",
    "\n",
    "news_df = [pd.read_csv(os.path.join('..',n,'final_data_tsc.csv'),\n",
    "                       index_col=False) for n in newspapers]\n",
    "\n",
    "names = ['Times of Malta','The Shift',\n",
    "         'Malta Today','Independent',\n",
    "         'Malta Daily','Gozo News']"
   ]
  },
  {
   "cell_type": "code",
   "execution_count": 3,
   "id": "a329c6bd",
   "metadata": {
    "ExecuteTime": {
     "end_time": "2023-05-02T12:15:51.565873Z",
     "start_time": "2023-05-02T12:15:51.492872Z"
    }
   },
   "outputs": [
    {
     "name": "stdout",
     "output_type": "stream",
     "text": [
      "Newspaper\tLabour\tNationalist\tMinister\n",
      "Times of Malta\t246\t\t92\t\t279\t\t\n",
      "\n",
      "The Shift\t809\t\t70\t\t1140\t\t\n",
      "\n",
      "Malta Today\t582\t\t342\t\t681\t\t\n",
      "\n",
      "Independent\t75\t\t102\t\t608\t\t\n",
      "\n",
      "Malta Daily\t49\t\t60\t\t307\t\t\n",
      "\n",
      "Gozo News\t27\t\t16\t\t332\t\t\n",
      "\n"
     ]
    }
   ],
   "source": [
    "kws = ['Labour','Nationalist','Minister']\n",
    "\n",
    "print('\\t'.join(['Newspaper']+kws))\n",
    "\n",
    "for df,name in zip(news_df,names):\n",
    "    print(name,end='\\t')\n",
    "\n",
    "    for kw in kws:\n",
    "        count = ' '.join(df['Body'].tolist()).count(kw)\n",
    "        \n",
    "        print(count,end='\\t\\t')\n",
    "    \n",
    "    print('\\n')"
   ]
  },
  {
   "cell_type": "code",
   "execution_count": 9,
   "id": "38d3d31e",
   "metadata": {
    "ExecuteTime": {
     "end_time": "2023-05-01T12:17:10.877324Z",
     "start_time": "2023-05-01T12:17:10.861030Z"
    }
   },
   "outputs": [],
   "source": []
  }
 ],
 "metadata": {
  "kernelspec": {
   "display_name": "Python [conda env:root] *",
   "language": "python",
   "name": "conda-root-py"
  },
  "language_info": {
   "codemirror_mode": {
    "name": "ipython",
    "version": 3
   },
   "file_extension": ".py",
   "mimetype": "text/x-python",
   "name": "python",
   "nbconvert_exporter": "python",
   "pygments_lexer": "ipython3",
   "version": "3.9.7"
  },
  "toc": {
   "base_numbering": 1,
   "nav_menu": {},
   "number_sections": true,
   "sideBar": true,
   "skip_h1_title": false,
   "title_cell": "Table of Contents",
   "title_sidebar": "Contents",
   "toc_cell": false,
   "toc_position": {},
   "toc_section_display": true,
   "toc_window_display": false
  }
 },
 "nbformat": 4,
 "nbformat_minor": 5
}
