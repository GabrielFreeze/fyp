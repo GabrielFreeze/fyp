{
 "cells": [
  {
   "cell_type": "code",
   "execution_count": 1,
   "id": "8522c843",
   "metadata": {
    "ExecuteTime": {
     "end_time": "2023-05-12T09:30:33.699346Z",
     "start_time": "2023-05-12T09:30:30.313124Z"
    }
   },
   "outputs": [],
   "source": [
    "import pandas as pd\n",
    "import os"
   ]
  },
  {
   "cell_type": "code",
   "execution_count": 7,
   "id": "1b6f1f88",
   "metadata": {
    "ExecuteTime": {
     "end_time": "2023-05-12T09:31:40.851882Z",
     "start_time": "2023-05-12T09:31:40.759121Z"
    }
   },
   "outputs": [
    {
     "data": {
      "text/plain": [
       "0.51"
      ]
     },
     "execution_count": 7,
     "metadata": {},
     "output_type": "execute_result"
    }
   ],
   "source": [
    "df = pd.read_csv(os.path.join('..','the_shift','final_data.csv'))\n",
    "df['Caption'].isna().sum()\n",
    "408/800"
   ]
  }
 ],
 "metadata": {
  "kernelspec": {
   "display_name": "Python 3 (ipykernel)",
   "language": "python",
   "name": "python3"
  },
  "language_info": {
   "codemirror_mode": {
    "name": "ipython",
    "version": 3
   },
   "file_extension": ".py",
   "mimetype": "text/x-python",
   "name": "python",
   "nbconvert_exporter": "python",
   "pygments_lexer": "ipython3",
   "version": "3.9.7"
  },
  "toc": {
   "base_numbering": 1,
   "nav_menu": {},
   "number_sections": true,
   "sideBar": true,
   "skip_h1_title": false,
   "title_cell": "Table of Contents",
   "title_sidebar": "Contents",
   "toc_cell": false,
   "toc_position": {},
   "toc_section_display": true,
   "toc_window_display": false
  }
 },
 "nbformat": 4,
 "nbformat_minor": 5
}
